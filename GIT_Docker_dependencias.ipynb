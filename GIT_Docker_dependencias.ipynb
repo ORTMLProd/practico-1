{
  "nbformat": 4,
  "nbformat_minor": 0,
  "metadata": {
    "colab": {
      "provenance": [],
      "include_colab_link": true
    },
    "kernelspec": {
      "name": "python3",
      "display_name": "Python 3"
    },
    "language_info": {
      "name": "python"
    }
  },
  "cells": [
    {
      "cell_type": "markdown",
      "metadata": {
        "id": "view-in-github",
        "colab_type": "text"
      },
      "source": [
        "<a href=\"https://colab.research.google.com/github/mati-ml-en-produccion/web_scraper/blob/main/GIT_Docker_dependencias.ipynb\" target=\"_parent\"><img src=\"https://colab.research.google.com/assets/colab-badge.svg\" alt=\"Open In Colab\"/></a>"
      ]
    },
    {
      "cell_type": "markdown",
      "source": [
        "## Git \n",
        "\n",
        "Git es un sistema de control de versiones de software libre y de código abierto diseñado para manejar proyectos de cualquier tamaño con velocidad y eficiencia. \n",
        "\n",
        "Git proporciona una forma de compartir el código fuente con otros desarrolladores a través de repositorios remotos, como *GitHub* o *Bitbucket*\n",
        "\n",
        "Para comenzar a usar Git, necesitas tenerlo instalado en tu computadora. \n",
        "\n",
        "Puedes descargar Git desde su sitio web oficial [Download Git](https://git-scm.com/book/es/v2/Inicio---Sobre-el-Control-de-Versiones-Instalaci%C3%B3n-de-Git) y seguir las instrucciones de instalación para tu sistema operativo.\n",
        "\n",
        "Una vez que tengas Git instalado, hay algunas terminologías que es necesario conocer. Un repositorio Git es el lugar donde se almacena el código fuente de tu proyecto. Puedes crear un repositorio nuevo o clonar uno existente desde un repositorio remoto, como GitHub o Bitbucket.\n",
        "\n",
        "## Los comandos básicos de Git que debes conocer son los siguientes:\n",
        "\n",
        "\n",
        "\n",
        "*   **git init**: para crear un nuevo repositorio en una carpeta vacía.\n",
        "*   **git clone**: para clonar un repositorio existente desde un repositorio remoto.\n",
        "*   **git add**: para agregar los cambios en tu código al área de preparación.\n",
        "*   **git commit**: para guardar los cambios en tu repositorio local junto con un * mensaje descriptivo.\n",
        "* **git push**: para enviar los cambios guardados en tu repositorio local al repositorio remoto.\n",
        "* **git pull**: para actualizar tu repositorio local con los cambios realizados en el repositorio remoto.\n",
        "* **git status**: informa si estas up to date o tienes cambios por subir. \n",
        "\n",
        "Además Git permite trabajar con ramas **(branches)** para poder trabajar features por separado sin afectar el trabajo comun de la rama principal. **(main)**\n",
        "\n",
        "El repositorio remoto que vamos a utilizar será **GitHub**"
      ],
      "metadata": {
        "id": "lIa01cRHU6qK"
      }
    },
    {
      "cell_type": "markdown",
      "source": [
        "## Para poder usar Github debemos seguir los siguientes pasos: \n",
        "\n",
        "1. Crea una cuenta de GitHub en https://github.com/signup y asegúrate de haber iniciado sesión.\n",
        "\n",
        "2. Crea un nuevo repositorio en GitHub. Haz clic en el botón \"Nuevo repositorio\" en la página principal de GitHub y dale un nombre a tu repositorio (en este caso, \"web_scraper\"). También puedes añadir una descripción opcional para el repositorio.\n",
        "\n",
        "3. Configura Git en tu computadora. Si aún no lo has hecho, instala Git en tu computadora y configura tu nombre y dirección de correo electrónico para que se asocien con tus confirmaciones de Git. \n",
        "\n",
        "   Puedes hacer esto con los siguientes comandos en la línea de comando:\n",
        "\n",
        "```\n",
        "git config --global user.name \"Tu nombre\"\n",
        "git config --global user.email \"tu correo electrónico\"\n",
        "\n",
        "```\n",
        "\n",
        "\n",
        "\n"
      ],
      "metadata": {
        "id": "Mp7DaptszR2L"
      }
    },
    {
      "cell_type": "code",
      "source": [
        "!git config --global user.name \"mati-ml-en-produccion\"\n",
        "!git config --global user.email \"msorozabal.arkadia@gmail.com\""
      ],
      "metadata": {
        "id": "uzUqrsAh0AX0"
      },
      "execution_count": 1,
      "outputs": []
    },
    {
      "cell_type": "code",
      "source": [
        "!git clone https://github.com/mati-ml-en-produccion/web_scraper.git"
      ],
      "metadata": {
        "colab": {
          "base_uri": "https://localhost:8080/"
        },
        "id": "hBs-0NG24HF-",
        "outputId": "55fc5311-e318-46de-cf79-6cbb8b7c563c"
      },
      "execution_count": 2,
      "outputs": [
        {
          "output_type": "stream",
          "name": "stdout",
          "text": [
            "Cloning into 'web_scraper'...\n",
            "remote: Enumerating objects: 3, done.\u001b[K\n",
            "remote: Counting objects: 100% (3/3), done.\u001b[K\n",
            "remote: Total 3 (delta 0), reused 0 (delta 0), pack-reused 0\u001b[K\n",
            "Unpacking objects: 100% (3/3), 602 bytes | 602.00 KiB/s, done.\n"
          ]
        }
      ]
    },
    {
      "cell_type": "code",
      "source": [],
      "metadata": {
        "id": "24gB2kuq4M6X"
      },
      "execution_count": null,
      "outputs": []
    },
    {
      "cell_type": "code",
      "source": [],
      "metadata": {
        "id": "V6SPZL_G4rwh"
      },
      "execution_count": null,
      "outputs": []
    }
  ]
}