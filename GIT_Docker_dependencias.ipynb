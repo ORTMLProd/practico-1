{
  "nbformat": 4,
  "nbformat_minor": 0,
  "metadata": {
    "colab": {
      "provenance": [],
      "include_colab_link": true
    },
    "kernelspec": {
      "name": "python3",
      "display_name": "Python 3"
    },
    "language_info": {
      "name": "python"
    }
  },
  "cells": [
    {
      "cell_type": "markdown",
      "metadata": {
        "id": "view-in-github",
        "colab_type": "text"
      },
      "source": [
        "<a href=\"https://colab.research.google.com/github/mati-ml-en-produccion/web_scraper/blob/main/GIT_Docker_dependencias.ipynb\" target=\"_parent\"><img src=\"https://colab.research.google.com/assets/colab-badge.svg\" alt=\"Open In Colab\"/></a>"
      ]
    },
    {
      "cell_type": "markdown",
      "source": [
        "## Git \n",
        "\n",
        "Git es un sistema de control de versiones de software libre y de código abierto diseñado para manejar proyectos de cualquier tamaño con velocidad y eficiencia. \n",
        "\n",
        "Git proporciona una forma de compartir el código fuente con otros desarrolladores a través de repositorios remotos, como *GitHub* o *Bitbucket*\n",
        "\n",
        "Para comenzar a usar Git, necesitas tenerlo instalado en tu computadora. \n",
        "\n",
        "Puedes descargar Git desde su sitio web oficial [Download Git](https://git-scm.com/book/es/v2/Inicio---Sobre-el-Control-de-Versiones-Instalaci%C3%B3n-de-Git) y seguir las instrucciones de instalación para tu sistema operativo.\n",
        "\n",
        "Una vez que tengas Git instalado, hay algunas terminologías que es necesario conocer. Un repositorio Git es el lugar donde se almacena el código fuente de tu proyecto. Puedes crear un repositorio nuevo o clonar uno existente desde un repositorio remoto, como GitHub o Bitbucket.\n",
        "\n",
        "## Los comandos básicos de Git que debes conocer son los siguientes:\n",
        "\n",
        "\n",
        "\n",
        "*   **git init**: para crear un nuevo repositorio en una carpeta vacía.\n",
        "*   **git clone**: para clonar un repositorio existente desde un repositorio remoto.\n",
        "*   **git add**: para agregar los cambios en tu código al área de preparación.\n",
        "*   **git commit**: para guardar los cambios en tu repositorio local junto con un * mensaje descriptivo.\n",
        "* **git push**: para enviar los cambios guardados en tu repositorio local al repositorio remoto.\n",
        "* **git pull**: para actualizar tu repositorio local con los cambios realizados en el repositorio remoto.\n",
        "* **git status**: informa si estas up to date o tienes cambios por subir. \n",
        "\n",
        "Además Git permite trabajar con ramas **(branches)** para poder trabajar features por separado sin afectar el trabajo comun de la rama principal. **(main)**\n",
        "\n",
        "El repositorio remoto que vamos a utilizar será **GitHub**\n"
      ],
      "metadata": {
        "id": "lIa01cRHU6qK"
      }
    },
    {
      "cell_type": "markdown",
      "source": [
        "## Para poder usar Github debemos seguir los siguientes pasos: \n",
        "\n",
        "1. Crea una cuenta de GitHub en https://github.com/signup y asegúrate de haber iniciado sesión.\n",
        "\n",
        "2. Crea un nuevo repositorio en GitHub. Haz clic en el botón \"Nuevo repositorio\" en la página principal de GitHub y dale un nombre a tu repositorio (en este caso, \"web_scraper\"). También puedes añadir una descripción opcional para el repositorio.\n",
        "\n",
        "3. Configura Git en tu computadora. Si aún no lo has hecho, instala Git en tu computadora y configura tu nombre y dirección de correo electrónico para que se asocien con tus confirmaciones de Git. \n",
        "\n",
        "   Puedes hacer esto con los siguientes comandos en la línea de comando:\n",
        "\n",
        "```\n",
        "git config --global user.name \"Tu nombre\"\n",
        "git config --global user.email \"tu correo electrónico\"\n",
        "\n",
        "```\n",
        "\n",
        "\n",
        "\n"
      ],
      "metadata": {
        "id": "Mp7DaptszR2L"
      }
    },
    {
      "cell_type": "code",
      "source": [
        "!git config --global user.name \"mati-ml-en-produccion\"\n",
        "!git config --global user.email \"msorozabal.arkadia@gmail.com\""
      ],
      "metadata": {
        "id": "uzUqrsAh0AX0"
      },
      "execution_count": 1,
      "outputs": []
    },
    {
      "cell_type": "code",
      "source": [
        "!git clone https://github.com/mati-ml-en-produccion/web_scraper.git"
      ],
      "metadata": {
        "colab": {
          "base_uri": "https://localhost:8080/"
        },
        "id": "hBs-0NG24HF-",
        "outputId": "55fc5311-e318-46de-cf79-6cbb8b7c563c"
      },
      "execution_count": 2,
      "outputs": [
        {
          "output_type": "stream",
          "name": "stdout",
          "text": [
            "Cloning into 'web_scraper'...\n",
            "remote: Enumerating objects: 3, done.\u001b[K\n",
            "remote: Counting objects: 100% (3/3), done.\u001b[K\n",
            "remote: Total 3 (delta 0), reused 0 (delta 0), pack-reused 0\u001b[K\n",
            "Unpacking objects: 100% (3/3), 602 bytes | 602.00 KiB/s, done.\n"
          ]
        }
      ]
    },
    {
      "cell_type": "code",
      "source": [
        "## Otra manera que podemos hacerlo es por linea de comando luego de tener instalado y configurado Github en su maquina Local "
      ],
      "metadata": {
        "id": "24gB2kuq4M6X"
      },
      "execution_count": 3,
      "outputs": []
    },
    {
      "cell_type": "markdown",
      "source": [
        "## Para configurar una clave SSH en GitHub desde tu local, sigue los siguientes pasos:\n",
        "\n",
        "1. Verifica si ya tienes una clave SSH existente en tu computadora ejecutando el siguiente comando en la línea de comando: `ls -al ~/.ssh.` Si ya tienes una clave SSH, verás una lista de archivos que comienzan con \"id_rsa\" o \"id_dsa\". Si no tienes una clave SSH, puedes generar una con el siguiente comando: `ssh-keygen -t rsa -b 4096 -C \"tu correo electrónico\"`.\n",
        "\n",
        "\n",
        "2. Copia la clave pública de SSH en tu portapapeles dependiendo de tu sistema operativo.\n",
        "\n",
        "  **Para sistemas Mac**: `~/.ssh/id_rsa.pub | pbcopy`\n",
        "\n",
        "  **Para sistemas Linux:** `cat ~/.ssh/id_rsa.pub | xclip -selection clipboard`\n",
        "\n",
        "  **Para sistemas Windows (usando PowerShell)**: `Get-Content ~/.ssh/id_rsa.pub | Set-Clipboard`\n",
        "\n",
        "\n",
        "3. Inicia sesión en tu cuenta de GitHub en tu navegador web y navega a la página de configuración de tus claves SSH: https://github.com/settings/keys\n",
        "\n",
        "   Haz clic en el botón \"Nueva clave SSH\".\n",
        "\n",
        "  Dale un nombre descriptivo a tu clave SSH en el campo \"Título\".\n",
        "\n",
        "\n",
        "4. Pega la clave pública de SSH que acabas de copiar en el campo \"Clave\". Asegúrate de que la clave se haya copiado correctamente y que no haya espacios adicionales ni líneas en blanco.\n",
        "\n",
        "Haz clic en el botón \"Agregar clave SSH\" para guardar tu clave SSH en tu cuenta de GitHub.\n",
        "\n",
        "Ahora puedes utilizar la URL de SSH para clonar o hacer push/pull desde tus repositorios de GitHub. \n",
        "\n",
        "Por ejemplo, en lugar de usar https://github.com/Usuario/Repositorio.git, utiliza git@github.com:Usuario/Repositorio.git"
      ],
      "metadata": {
        "id": "hRE-cUHZA14f"
      }
    },
    {
      "cell_type": "code",
      "source": [],
      "metadata": {
        "id": "pfbVSsIFB8SA"
      },
      "execution_count": 3,
      "outputs": []
    },
    {
      "cell_type": "code",
      "source": [],
      "metadata": {
        "id": "FBExZGpkB8T_"
      },
      "execution_count": null,
      "outputs": []
    },
    {
      "cell_type": "code",
      "source": [],
      "metadata": {
        "id": "0ithrJ48B8WU"
      },
      "execution_count": null,
      "outputs": []
    },
    {
      "cell_type": "code",
      "source": [],
      "metadata": {
        "id": "fesBWRCOB8Yh"
      },
      "execution_count": null,
      "outputs": []
    },
    {
      "cell_type": "code",
      "source": [],
      "metadata": {
        "id": "77FG2HS1B8ar"
      },
      "execution_count": null,
      "outputs": []
    },
    {
      "cell_type": "code",
      "source": [],
      "metadata": {
        "id": "BHaH9rXqB8c1"
      },
      "execution_count": null,
      "outputs": []
    },
    {
      "cell_type": "code",
      "source": [],
      "metadata": {
        "id": "LZNKvo4lB8fG"
      },
      "execution_count": null,
      "outputs": []
    },
    {
      "cell_type": "code",
      "source": [],
      "metadata": {
        "id": "V6SPZL_G4rwh"
      },
      "execution_count": 3,
      "outputs": []
    }
  ]
}